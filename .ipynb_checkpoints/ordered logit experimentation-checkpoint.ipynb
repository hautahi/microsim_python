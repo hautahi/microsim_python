{
 "cells": [
  {
   "cell_type": "code",
   "execution_count": 96,
   "metadata": {},
   "outputs": [
    {
     "data": {
      "text/html": [
       "<div>\n",
       "<style scoped>\n",
       "    .dataframe tbody tr th:only-of-type {\n",
       "        vertical-align: middle;\n",
       "    }\n",
       "\n",
       "    .dataframe tbody tr th {\n",
       "        vertical-align: top;\n",
       "    }\n",
       "\n",
       "    .dataframe thead th {\n",
       "        text-align: right;\n",
       "    }\n",
       "</style>\n",
       "<table border=\"1\" class=\"dataframe\">\n",
       "  <thead>\n",
       "    <tr style=\"text-align: right;\">\n",
       "      <th></th>\n",
       "      <th>var</th>\n",
       "      <th>est</th>\n",
       "    </tr>\n",
       "  </thead>\n",
       "  <tbody>\n",
       "    <tr>\n",
       "      <th>0</th>\n",
       "      <td>Right</td>\n",
       "      <td>-1.066345</td>\n",
       "    </tr>\n",
       "  </tbody>\n",
       "</table>\n",
       "</div>"
      ],
      "text/plain": [
       "     var       est\n",
       "0  Right -1.066345"
      ]
     },
     "execution_count": 96,
     "metadata": {},
     "output_type": "execute_result"
    }
   ],
   "source": [
    "import pandas as pd\n",
    "import numpy as np\n",
    "import patsy\n",
    "from sklearn import linear_model\n",
    "import mord as m\n",
    "\n",
    "data=np.array([[2, 1],\n",
    "       [3, 0],\n",
    "       [3, 1],\n",
    "       [2, 1],\n",
    "       [1, 1],\n",
    "       [2, 0],\n",
    "       [3, 1],\n",
    "       [2, 1],\n",
    "       [2, 1],\n",
    "       [1, 1]])\n",
    "df=pd.DataFrame(data, columns=['Left', 'Right'])\n",
    "y=df[['Left']]\n",
    "X=df[['Right']]\n",
    "c= m.LogisticIT(alpha=0)\n",
    "c.fit(X, y.values.ravel().astype('int')) \n",
    "co_names = [x.split(\")\")[0] for x in list(X)]\n",
    "co_names = [x.replace(\"C(\",\"\") for x in co_names]\n",
    "raw_data = {'var': co_names, 'est': c.coef_}\n",
    "out_df = pd.DataFrame(raw_data, columns=['var', 'est'])\n",
    "out_df"
   ]
  },
  {
   "cell_type": "code",
   "execution_count": 67,
   "metadata": {},
   "outputs": [],
   "source": []
  },
  {
   "cell_type": "code",
   "execution_count": null,
   "metadata": {},
   "outputs": [],
   "source": []
  }
 ],
 "metadata": {
  "kernelspec": {
   "display_name": "Python 3",
   "language": "python",
   "name": "python3"
  },
  "language_info": {
   "codemirror_mode": {
    "name": "ipython",
    "version": 3
   },
   "file_extension": ".py",
   "mimetype": "text/x-python",
   "name": "python",
   "nbconvert_exporter": "python",
   "pygments_lexer": "ipython3",
   "version": "3.6.5"
  }
 },
 "nbformat": 4,
 "nbformat_minor": 2
}
