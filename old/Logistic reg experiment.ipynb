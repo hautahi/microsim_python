{
 "cells": [
  {
   "cell_type": "code",
   "execution_count": 12,
   "metadata": {
    "collapsed": true
   },
   "outputs": [],
   "source": [
    "import pandas as pd\n",
    "import numpy as np\n",
    "import patsy\n",
    "from sklearn import linear_model"
   ]
  },
  {
   "cell_type": "code",
   "execution_count": 51,
   "metadata": {},
   "outputs": [
    {
     "name": "stdout",
     "output_type": "stream",
     "text": [
      "   a  b\n",
      "0  1  0\n",
      "1  1  0\n",
      "2  0  1\n",
      "3  1  1\n",
      "4  1  0\n",
      "5  0  0\n",
      "6  0  0\n",
      "7  0  1\n",
      "8  1  0\n",
      "9  0  0\n"
     ]
    },
    {
     "data": {
      "text/html": [
       "<div>\n",
       "<style>\n",
       "    .dataframe thead tr:only-child th {\n",
       "        text-align: right;\n",
       "    }\n",
       "\n",
       "    .dataframe thead th {\n",
       "        text-align: left;\n",
       "    }\n",
       "\n",
       "    .dataframe tbody tr th {\n",
       "        vertical-align: top;\n",
       "    }\n",
       "</style>\n",
       "<table border=\"1\" class=\"dataframe\">\n",
       "  <thead>\n",
       "    <tr style=\"text-align: right;\">\n",
       "      <th></th>\n",
       "      <th>est</th>\n",
       "      <th>var</th>\n",
       "    </tr>\n",
       "  </thead>\n",
       "  <tbody>\n",
       "    <tr>\n",
       "      <th>0</th>\n",
       "      <td>-0.458096</td>\n",
       "      <td>a</td>\n",
       "    </tr>\n",
       "    <tr>\n",
       "      <th>1</th>\n",
       "      <td>-0.429415</td>\n",
       "      <td>Intercept</td>\n",
       "    </tr>\n",
       "  </tbody>\n",
       "</table>\n",
       "</div>"
      ],
      "text/plain": [
       "        est        var\n",
       "0 -0.458096          a\n",
       "1 -0.429415  Intercept"
      ]
     },
     "execution_count": 51,
     "metadata": {},
     "output_type": "execute_result"
    }
   ],
   "source": [
    "data=np.array([[1, 0],\n",
    "       [1, 0],\n",
    "       [0, 1],\n",
    "       [1, 1],\n",
    "       [1, 0],\n",
    "       [0, 0],\n",
    "       [0, 0],\n",
    "       [0, 1],\n",
    "       [1, 0],\n",
    "       [0, 0]])\n",
    "df=pd.DataFrame(data, columns=['a', 'b'])\n",
    "clf = linear_model.LogisticRegression()\n",
    "print(df)\n",
    "X=df[['a']]\n",
    "y=df[['b']]\n",
    "clf.fit(X, y.values.ravel())\n",
    "co_names = [x.split(\")\")[0] for x in list(X)]\n",
    "co_names = [x.replace(\"C(\",\"\") for x in co_names]\n",
    "raw_data = {'var': co_names, 'est': clf.coef_[0]}\n",
    "out_df = pd.DataFrame(raw_data, columns=['var', 'est'])\n",
    "out_df = out_df.append(pd.DataFrame(['Intercept'],columns=['var']), ignore_index=True)\n",
    "out_df.iloc[1,0]=clf.intercept_\n",
    "out_df\n",
    "\n"
   ]
  },
  {
   "cell_type": "code",
   "execution_count": 66,
   "metadata": {},
   "outputs": [
    {
     "name": "stdout",
     "output_type": "stream",
     "text": [
      "Optimization terminated successfully.\n",
      "         Current function value: 0.596775\n",
      "         Iterations 5\n",
      "                           Logit Regression Results                           \n",
      "==============================================================================\n",
      "Dep. Variable:                      b   No. Observations:                   10\n",
      "Model:                          Logit   Df Residuals:                        9\n",
      "Method:                           MLE   Df Model:                            0\n",
      "Date:                Mon, 09 Jul 2018   Pseudo R-squ.:                 0.02306\n",
      "Time:                        22:02:43   Log-Likelihood:                -5.9677\n",
      "converged:                       True   LL-Null:                       -6.1086\n",
      "                                        LLR p-value:                       nan\n",
      "==============================================================================\n",
      "                 coef    std err          z      P>|z|      [0.025      0.975]\n",
      "------------------------------------------------------------------------------\n",
      "a             -1.3863      1.118     -1.240      0.215      -3.578       0.805\n",
      "==============================================================================\n"
     ]
    }
   ],
   "source": [
    "from scipy import stats\n",
    "stats.chisqprob = lambda chisq, df: stats.chi2.sf(chisq, df)\n",
    "\n",
    "import statsmodels.api as sm\n",
    "logit = sm.Logit(y, X)\n",
    "result = logit.fit()\n",
    "print(result.summary())"
   ]
  },
  {
   "cell_type": "code",
   "execution_count": 57,
   "metadata": {},
   "outputs": [
    {
     "ename": "AttributeError",
     "evalue": "module 'statsmodels' has no attribute 'Logit'",
     "output_type": "error",
     "traceback": [
      "\u001b[1;31m---------------------------------------------------------------------------\u001b[0m",
      "\u001b[1;31mAttributeError\u001b[0m                            Traceback (most recent call last)",
      "\u001b[1;32m<ipython-input-57-090a9ed0f9e8>\u001b[0m in \u001b[0;36m<module>\u001b[1;34m()\u001b[0m\n\u001b[1;32m----> 1\u001b[1;33m \u001b[0msm\u001b[0m\u001b[1;33m.\u001b[0m\u001b[0mLogit\u001b[0m\u001b[1;33m\u001b[0m\u001b[0m\n\u001b[0m",
      "\u001b[1;31mAttributeError\u001b[0m: module 'statsmodels' has no attribute 'Logit'"
     ]
    }
   ],
   "source": []
  },
  {
   "cell_type": "code",
   "execution_count": null,
   "metadata": {
    "collapsed": true
   },
   "outputs": [],
   "source": []
  }
 ],
 "metadata": {
  "kernelspec": {
   "display_name": "Python 3",
   "language": "python",
   "name": "python3"
  },
  "language_info": {
   "codemirror_mode": {
    "name": "ipython",
    "version": 3
   },
   "file_extension": ".py",
   "mimetype": "text/x-python",
   "name": "python",
   "nbconvert_exporter": "python",
   "pygments_lexer": "ipython3",
   "version": "3.6.5"
  }
 },
 "nbformat": 4,
 "nbformat_minor": 2
}
